{
  "nbformat": 4,
  "nbformat_minor": 0,
  "metadata": {
    "colab": {
      "provenance": [],
      "toc_visible": true,
      "mount_file_id": "1GPfyXdrs0ey6cjNDFtkLRkSnQaLyIzWP",
      "authorship_tag": "ABX9TyOUYsauDlMIw8fj8rCJi3g5",
      "include_colab_link": true
    },
    "kernelspec": {
      "name": "python3",
      "display_name": "Python 3"
    },
    "language_info": {
      "name": "python"
    }
  },
  "cells": [
    {
      "cell_type": "markdown",
      "metadata": {
        "id": "view-in-github",
        "colab_type": "text"
      },
      "source": [
        "<a href=\"https://colab.research.google.com/github/GuanRuLai/Python-Project-DeepFM-Commodity-Recommendation-Model/blob/main/deepfm_algorithm.ipynb\" target=\"_parent\"><img src=\"https://colab.research.google.com/assets/colab-badge.svg\" alt=\"Open In Colab\"/></a>"
      ]
    },
    {
      "cell_type": "markdown",
      "source": [
        "# Download dataset from kaggle"
      ],
      "metadata": {
        "id": "NlMp6yAI2iXr"
      }
    },
    {
      "cell_type": "markdown",
      "source": [
        "## Set API key"
      ],
      "metadata": {
        "id": "2kT_Z-Q1dAt2"
      }
    },
    {
      "cell_type": "code",
      "execution_count": null,
      "metadata": {
        "id": "M-tdS--v2gXc"
      },
      "outputs": [],
      "source": [
        "import os\n",
        "\n",
        "os.environ['KAGGLE_USERNAME'] = \"guanrulai\"\n",
        "os.environ['KAGGLE_KEY'] = \"68b76f95e8253d46ffc725d7313443ed\""
      ]
    },
    {
      "cell_type": "markdown",
      "source": [
        "## Download dataset"
      ],
      "metadata": {
        "id": "QKMZiAS3drAI"
      }
    },
    {
      "cell_type": "code",
      "source": [
        "!kaggle datasets download -d devsubhash/flipkart-mobiles-dataset"
      ],
      "metadata": {
        "colab": {
          "base_uri": "https://localhost:8080/"
        },
        "id": "bPN5982kdtoj",
        "outputId": "47569fde-ffd8-4acf-96be-9c750311928a"
      },
      "execution_count": null,
      "outputs": [
        {
          "output_type": "stream",
          "name": "stdout",
          "text": [
            "Dataset URL: https://www.kaggle.com/datasets/devsubhash/flipkart-mobiles-dataset\n",
            "License(s): CC0-1.0\n",
            "Downloading flipkart-mobiles-dataset.zip to /content\n",
            "  0% 0.00/54.4k [00:00<?, ?B/s]\n",
            "100% 54.4k/54.4k [00:00<00:00, 9.56MB/s]\n"
          ]
        }
      ]
    },
    {
      "cell_type": "markdown",
      "source": [
        "## Uncompress the dataset"
      ],
      "metadata": {
        "id": "thGq_0l3edez"
      }
    },
    {
      "cell_type": "code",
      "source": [
        "import zipfile\n",
        "\n",
        "with zipfile.ZipFile(\"flipkart-mobiles-dataset.zip\", \"r\") as zip_ref:\n",
        "    zip_ref.extractall(\"data\")"
      ],
      "metadata": {
        "id": "9aN_KeRyeeZ5"
      },
      "execution_count": null,
      "outputs": []
    },
    {
      "cell_type": "markdown",
      "source": [
        "# Install necessary library"
      ],
      "metadata": {
        "id": "942In6fd6Tsm"
      }
    },
    {
      "cell_type": "code",
      "source": [
        "!pip install deepctr-torch torch scikit-learn tensorflow"
      ],
      "metadata": {
        "colab": {
          "base_uri": "https://localhost:8080/"
        },
        "id": "ge7-7I_N6W8r",
        "outputId": "eb692059-1127-4388-bb71-9e95b7173a12"
      },
      "execution_count": null,
      "outputs": [
        {
          "output_type": "stream",
          "name": "stdout",
          "text": [
            "Collecting deepctr-torch\n",
            "  Downloading deepctr_torch-0.2.9-py3-none-any.whl.metadata (12 kB)\n",
            "Requirement already satisfied: torch in /usr/local/lib/python3.11/dist-packages (2.5.1+cu124)\n",
            "Requirement already satisfied: scikit-learn in /usr/local/lib/python3.11/dist-packages (1.6.1)\n",
            "Requirement already satisfied: tensorflow in /usr/local/lib/python3.11/dist-packages (2.18.0)\n",
            "Requirement already satisfied: tqdm in /usr/local/lib/python3.11/dist-packages (from deepctr-torch) (4.67.1)\n",
            "Requirement already satisfied: filelock in /usr/local/lib/python3.11/dist-packages (from torch) (3.17.0)\n",
            "Requirement already satisfied: typing-extensions>=4.8.0 in /usr/local/lib/python3.11/dist-packages (from torch) (4.12.2)\n",
            "Requirement already satisfied: networkx in /usr/local/lib/python3.11/dist-packages (from torch) (3.4.2)\n",
            "Requirement already satisfied: jinja2 in /usr/local/lib/python3.11/dist-packages (from torch) (3.1.5)\n",
            "Requirement already satisfied: fsspec in /usr/local/lib/python3.11/dist-packages (from torch) (2024.10.0)\n",
            "Collecting nvidia-cuda-nvrtc-cu12==12.4.127 (from torch)\n",
            "  Downloading nvidia_cuda_nvrtc_cu12-12.4.127-py3-none-manylinux2014_x86_64.whl.metadata (1.5 kB)\n",
            "Collecting nvidia-cuda-runtime-cu12==12.4.127 (from torch)\n",
            "  Downloading nvidia_cuda_runtime_cu12-12.4.127-py3-none-manylinux2014_x86_64.whl.metadata (1.5 kB)\n",
            "Collecting nvidia-cuda-cupti-cu12==12.4.127 (from torch)\n",
            "  Downloading nvidia_cuda_cupti_cu12-12.4.127-py3-none-manylinux2014_x86_64.whl.metadata (1.6 kB)\n",
            "Collecting nvidia-cudnn-cu12==9.1.0.70 (from torch)\n",
            "  Downloading nvidia_cudnn_cu12-9.1.0.70-py3-none-manylinux2014_x86_64.whl.metadata (1.6 kB)\n",
            "Collecting nvidia-cublas-cu12==12.4.5.8 (from torch)\n",
            "  Downloading nvidia_cublas_cu12-12.4.5.8-py3-none-manylinux2014_x86_64.whl.metadata (1.5 kB)\n",
            "Collecting nvidia-cufft-cu12==11.2.1.3 (from torch)\n",
            "  Downloading nvidia_cufft_cu12-11.2.1.3-py3-none-manylinux2014_x86_64.whl.metadata (1.5 kB)\n",
            "Collecting nvidia-curand-cu12==10.3.5.147 (from torch)\n",
            "  Downloading nvidia_curand_cu12-10.3.5.147-py3-none-manylinux2014_x86_64.whl.metadata (1.5 kB)\n",
            "Collecting nvidia-cusolver-cu12==11.6.1.9 (from torch)\n",
            "  Downloading nvidia_cusolver_cu12-11.6.1.9-py3-none-manylinux2014_x86_64.whl.metadata (1.6 kB)\n",
            "Collecting nvidia-cusparse-cu12==12.3.1.170 (from torch)\n",
            "  Downloading nvidia_cusparse_cu12-12.3.1.170-py3-none-manylinux2014_x86_64.whl.metadata (1.6 kB)\n",
            "Requirement already satisfied: nvidia-nccl-cu12==2.21.5 in /usr/local/lib/python3.11/dist-packages (from torch) (2.21.5)\n",
            "Requirement already satisfied: nvidia-nvtx-cu12==12.4.127 in /usr/local/lib/python3.11/dist-packages (from torch) (12.4.127)\n",
            "Collecting nvidia-nvjitlink-cu12==12.4.127 (from torch)\n",
            "  Downloading nvidia_nvjitlink_cu12-12.4.127-py3-none-manylinux2014_x86_64.whl.metadata (1.5 kB)\n",
            "Requirement already satisfied: triton==3.1.0 in /usr/local/lib/python3.11/dist-packages (from torch) (3.1.0)\n",
            "Requirement already satisfied: sympy==1.13.1 in /usr/local/lib/python3.11/dist-packages (from torch) (1.13.1)\n",
            "Requirement already satisfied: mpmath<1.4,>=1.1.0 in /usr/local/lib/python3.11/dist-packages (from sympy==1.13.1->torch) (1.3.0)\n",
            "Requirement already satisfied: numpy>=1.19.5 in /usr/local/lib/python3.11/dist-packages (from scikit-learn) (1.26.4)\n",
            "Requirement already satisfied: scipy>=1.6.0 in /usr/local/lib/python3.11/dist-packages (from scikit-learn) (1.13.1)\n",
            "Requirement already satisfied: joblib>=1.2.0 in /usr/local/lib/python3.11/dist-packages (from scikit-learn) (1.4.2)\n",
            "Requirement already satisfied: threadpoolctl>=3.1.0 in /usr/local/lib/python3.11/dist-packages (from scikit-learn) (3.5.0)\n",
            "Requirement already satisfied: absl-py>=1.0.0 in /usr/local/lib/python3.11/dist-packages (from tensorflow) (1.4.0)\n",
            "Requirement already satisfied: astunparse>=1.6.0 in /usr/local/lib/python3.11/dist-packages (from tensorflow) (1.6.3)\n",
            "Requirement already satisfied: flatbuffers>=24.3.25 in /usr/local/lib/python3.11/dist-packages (from tensorflow) (25.1.24)\n",
            "Requirement already satisfied: gast!=0.5.0,!=0.5.1,!=0.5.2,>=0.2.1 in /usr/local/lib/python3.11/dist-packages (from tensorflow) (0.6.0)\n",
            "Requirement already satisfied: google-pasta>=0.1.1 in /usr/local/lib/python3.11/dist-packages (from tensorflow) (0.2.0)\n",
            "Requirement already satisfied: libclang>=13.0.0 in /usr/local/lib/python3.11/dist-packages (from tensorflow) (18.1.1)\n",
            "Requirement already satisfied: opt-einsum>=2.3.2 in /usr/local/lib/python3.11/dist-packages (from tensorflow) (3.4.0)\n",
            "Requirement already satisfied: packaging in /usr/local/lib/python3.11/dist-packages (from tensorflow) (24.2)\n",
            "Requirement already satisfied: protobuf!=4.21.0,!=4.21.1,!=4.21.2,!=4.21.3,!=4.21.4,!=4.21.5,<6.0.0dev,>=3.20.3 in /usr/local/lib/python3.11/dist-packages (from tensorflow) (4.25.6)\n",
            "Requirement already satisfied: requests<3,>=2.21.0 in /usr/local/lib/python3.11/dist-packages (from tensorflow) (2.32.3)\n",
            "Requirement already satisfied: setuptools in /usr/local/lib/python3.11/dist-packages (from tensorflow) (75.1.0)\n",
            "Requirement already satisfied: six>=1.12.0 in /usr/local/lib/python3.11/dist-packages (from tensorflow) (1.17.0)\n",
            "Requirement already satisfied: termcolor>=1.1.0 in /usr/local/lib/python3.11/dist-packages (from tensorflow) (2.5.0)\n",
            "Requirement already satisfied: wrapt>=1.11.0 in /usr/local/lib/python3.11/dist-packages (from tensorflow) (1.17.2)\n",
            "Requirement already satisfied: grpcio<2.0,>=1.24.3 in /usr/local/lib/python3.11/dist-packages (from tensorflow) (1.70.0)\n",
            "Requirement already satisfied: tensorboard<2.19,>=2.18 in /usr/local/lib/python3.11/dist-packages (from tensorflow) (2.18.0)\n",
            "Requirement already satisfied: keras>=3.5.0 in /usr/local/lib/python3.11/dist-packages (from tensorflow) (3.8.0)\n",
            "Requirement already satisfied: h5py>=3.11.0 in /usr/local/lib/python3.11/dist-packages (from tensorflow) (3.12.1)\n",
            "Requirement already satisfied: ml-dtypes<0.5.0,>=0.4.0 in /usr/local/lib/python3.11/dist-packages (from tensorflow) (0.4.1)\n",
            "Requirement already satisfied: tensorflow-io-gcs-filesystem>=0.23.1 in /usr/local/lib/python3.11/dist-packages (from tensorflow) (0.37.1)\n",
            "Requirement already satisfied: wheel<1.0,>=0.23.0 in /usr/local/lib/python3.11/dist-packages (from astunparse>=1.6.0->tensorflow) (0.45.1)\n",
            "Requirement already satisfied: rich in /usr/local/lib/python3.11/dist-packages (from keras>=3.5.0->tensorflow) (13.9.4)\n",
            "Requirement already satisfied: namex in /usr/local/lib/python3.11/dist-packages (from keras>=3.5.0->tensorflow) (0.0.8)\n",
            "Requirement already satisfied: optree in /usr/local/lib/python3.11/dist-packages (from keras>=3.5.0->tensorflow) (0.14.0)\n",
            "Requirement already satisfied: charset-normalizer<4,>=2 in /usr/local/lib/python3.11/dist-packages (from requests<3,>=2.21.0->tensorflow) (3.4.1)\n",
            "Requirement already satisfied: idna<4,>=2.5 in /usr/local/lib/python3.11/dist-packages (from requests<3,>=2.21.0->tensorflow) (3.10)\n",
            "Requirement already satisfied: urllib3<3,>=1.21.1 in /usr/local/lib/python3.11/dist-packages (from requests<3,>=2.21.0->tensorflow) (2.3.0)\n",
            "Requirement already satisfied: certifi>=2017.4.17 in /usr/local/lib/python3.11/dist-packages (from requests<3,>=2.21.0->tensorflow) (2025.1.31)\n",
            "Requirement already satisfied: markdown>=2.6.8 in /usr/local/lib/python3.11/dist-packages (from tensorboard<2.19,>=2.18->tensorflow) (3.7)\n",
            "Requirement already satisfied: tensorboard-data-server<0.8.0,>=0.7.0 in /usr/local/lib/python3.11/dist-packages (from tensorboard<2.19,>=2.18->tensorflow) (0.7.2)\n",
            "Requirement already satisfied: werkzeug>=1.0.1 in /usr/local/lib/python3.11/dist-packages (from tensorboard<2.19,>=2.18->tensorflow) (3.1.3)\n",
            "Requirement already satisfied: MarkupSafe>=2.0 in /usr/local/lib/python3.11/dist-packages (from jinja2->torch) (3.0.2)\n",
            "Requirement already satisfied: markdown-it-py>=2.2.0 in /usr/local/lib/python3.11/dist-packages (from rich->keras>=3.5.0->tensorflow) (3.0.0)\n",
            "Requirement already satisfied: pygments<3.0.0,>=2.13.0 in /usr/local/lib/python3.11/dist-packages (from rich->keras>=3.5.0->tensorflow) (2.18.0)\n",
            "Requirement already satisfied: mdurl~=0.1 in /usr/local/lib/python3.11/dist-packages (from markdown-it-py>=2.2.0->rich->keras>=3.5.0->tensorflow) (0.1.2)\n",
            "Downloading deepctr_torch-0.2.9-py3-none-any.whl (82 kB)\n",
            "\u001b[2K   \u001b[90m━━━━━━━━━━━━━━━━━━━━━━━━━━━━━━━━━━━━━━━━\u001b[0m \u001b[32m83.0/83.0 kB\u001b[0m \u001b[31m4.3 MB/s\u001b[0m eta \u001b[36m0:00:00\u001b[0m\n",
            "\u001b[?25hDownloading nvidia_cublas_cu12-12.4.5.8-py3-none-manylinux2014_x86_64.whl (363.4 MB)\n",
            "\u001b[2K   \u001b[90m━━━━━━━━━━━━━━━━━━━━━━━━━━━━━━━━━━━━━━━━\u001b[0m \u001b[32m363.4/363.4 MB\u001b[0m \u001b[31m3.9 MB/s\u001b[0m eta \u001b[36m0:00:00\u001b[0m\n",
            "\u001b[?25hDownloading nvidia_cuda_cupti_cu12-12.4.127-py3-none-manylinux2014_x86_64.whl (13.8 MB)\n",
            "\u001b[2K   \u001b[90m━━━━━━━━━━━━━━━━━━━━━━━━━━━━━━━━━━━━━━━━\u001b[0m \u001b[32m13.8/13.8 MB\u001b[0m \u001b[31m94.9 MB/s\u001b[0m eta \u001b[36m0:00:00\u001b[0m\n",
            "\u001b[?25hDownloading nvidia_cuda_nvrtc_cu12-12.4.127-py3-none-manylinux2014_x86_64.whl (24.6 MB)\n",
            "\u001b[2K   \u001b[90m━━━━━━━━━━━━━━━━━━━━━━━━━━━━━━━━━━━━━━━━\u001b[0m \u001b[32m24.6/24.6 MB\u001b[0m \u001b[31m74.7 MB/s\u001b[0m eta \u001b[36m0:00:00\u001b[0m\n",
            "\u001b[?25hDownloading nvidia_cuda_runtime_cu12-12.4.127-py3-none-manylinux2014_x86_64.whl (883 kB)\n",
            "\u001b[2K   \u001b[90m━━━━━━━━━━━━━━━━━━━━━━━━━━━━━━━━━━━━━━━━\u001b[0m \u001b[32m883.7/883.7 kB\u001b[0m \u001b[31m43.3 MB/s\u001b[0m eta \u001b[36m0:00:00\u001b[0m\n",
            "\u001b[?25hDownloading nvidia_cudnn_cu12-9.1.0.70-py3-none-manylinux2014_x86_64.whl (664.8 MB)\n",
            "\u001b[2K   \u001b[90m━━━━━━━━━━━━━━━━━━━━━━━━━━━━━━━━━━━━━━━━\u001b[0m \u001b[32m664.8/664.8 MB\u001b[0m \u001b[31m2.8 MB/s\u001b[0m eta \u001b[36m0:00:00\u001b[0m\n",
            "\u001b[?25hDownloading nvidia_cufft_cu12-11.2.1.3-py3-none-manylinux2014_x86_64.whl (211.5 MB)\n",
            "\u001b[2K   \u001b[90m━━━━━━━━━━━━━━━━━━━━━━━━━━━━━━━━━━━━━━━━\u001b[0m \u001b[32m211.5/211.5 MB\u001b[0m \u001b[31m6.1 MB/s\u001b[0m eta \u001b[36m0:00:00\u001b[0m\n",
            "\u001b[?25hDownloading nvidia_curand_cu12-10.3.5.147-py3-none-manylinux2014_x86_64.whl (56.3 MB)\n",
            "\u001b[2K   \u001b[90m━━━━━━━━━━━━━━━━━━━━━━━━━━━━━━━━━━━━━━━━\u001b[0m \u001b[32m56.3/56.3 MB\u001b[0m \u001b[31m11.3 MB/s\u001b[0m eta \u001b[36m0:00:00\u001b[0m\n",
            "\u001b[?25hDownloading nvidia_cusolver_cu12-11.6.1.9-py3-none-manylinux2014_x86_64.whl (127.9 MB)\n",
            "\u001b[2K   \u001b[90m━━━━━━━━━━━━━━━━━━━━━━━━━━━━━━━━━━━━━━━━\u001b[0m \u001b[32m127.9/127.9 MB\u001b[0m \u001b[31m6.7 MB/s\u001b[0m eta \u001b[36m0:00:00\u001b[0m\n",
            "\u001b[?25hDownloading nvidia_cusparse_cu12-12.3.1.170-py3-none-manylinux2014_x86_64.whl (207.5 MB)\n",
            "\u001b[2K   \u001b[90m━━━━━━━━━━━━━━━━━━━━━━━━━━━━━━━━━━━━━━━━\u001b[0m \u001b[32m207.5/207.5 MB\u001b[0m \u001b[31m4.9 MB/s\u001b[0m eta \u001b[36m0:00:00\u001b[0m\n",
            "\u001b[?25hDownloading nvidia_nvjitlink_cu12-12.4.127-py3-none-manylinux2014_x86_64.whl (21.1 MB)\n",
            "\u001b[2K   \u001b[90m━━━━━━━━━━━━━━━━━━━━━━━━━━━━━━━━━━━━━━━━\u001b[0m \u001b[32m21.1/21.1 MB\u001b[0m \u001b[31m77.6 MB/s\u001b[0m eta \u001b[36m0:00:00\u001b[0m\n",
            "\u001b[?25hInstalling collected packages: nvidia-nvjitlink-cu12, nvidia-curand-cu12, nvidia-cufft-cu12, nvidia-cuda-runtime-cu12, nvidia-cuda-nvrtc-cu12, nvidia-cuda-cupti-cu12, nvidia-cublas-cu12, nvidia-cusparse-cu12, nvidia-cudnn-cu12, nvidia-cusolver-cu12, deepctr-torch\n",
            "  Attempting uninstall: nvidia-nvjitlink-cu12\n",
            "    Found existing installation: nvidia-nvjitlink-cu12 12.5.82\n",
            "    Uninstalling nvidia-nvjitlink-cu12-12.5.82:\n",
            "      Successfully uninstalled nvidia-nvjitlink-cu12-12.5.82\n",
            "  Attempting uninstall: nvidia-curand-cu12\n",
            "    Found existing installation: nvidia-curand-cu12 10.3.6.82\n",
            "    Uninstalling nvidia-curand-cu12-10.3.6.82:\n",
            "      Successfully uninstalled nvidia-curand-cu12-10.3.6.82\n",
            "  Attempting uninstall: nvidia-cufft-cu12\n",
            "    Found existing installation: nvidia-cufft-cu12 11.2.3.61\n",
            "    Uninstalling nvidia-cufft-cu12-11.2.3.61:\n",
            "      Successfully uninstalled nvidia-cufft-cu12-11.2.3.61\n",
            "  Attempting uninstall: nvidia-cuda-runtime-cu12\n",
            "    Found existing installation: nvidia-cuda-runtime-cu12 12.5.82\n",
            "    Uninstalling nvidia-cuda-runtime-cu12-12.5.82:\n",
            "      Successfully uninstalled nvidia-cuda-runtime-cu12-12.5.82\n",
            "  Attempting uninstall: nvidia-cuda-nvrtc-cu12\n",
            "    Found existing installation: nvidia-cuda-nvrtc-cu12 12.5.82\n",
            "    Uninstalling nvidia-cuda-nvrtc-cu12-12.5.82:\n",
            "      Successfully uninstalled nvidia-cuda-nvrtc-cu12-12.5.82\n",
            "  Attempting uninstall: nvidia-cuda-cupti-cu12\n",
            "    Found existing installation: nvidia-cuda-cupti-cu12 12.5.82\n",
            "    Uninstalling nvidia-cuda-cupti-cu12-12.5.82:\n",
            "      Successfully uninstalled nvidia-cuda-cupti-cu12-12.5.82\n",
            "  Attempting uninstall: nvidia-cublas-cu12\n",
            "    Found existing installation: nvidia-cublas-cu12 12.5.3.2\n",
            "    Uninstalling nvidia-cublas-cu12-12.5.3.2:\n",
            "      Successfully uninstalled nvidia-cublas-cu12-12.5.3.2\n",
            "  Attempting uninstall: nvidia-cusparse-cu12\n",
            "    Found existing installation: nvidia-cusparse-cu12 12.5.1.3\n",
            "    Uninstalling nvidia-cusparse-cu12-12.5.1.3:\n",
            "      Successfully uninstalled nvidia-cusparse-cu12-12.5.1.3\n",
            "  Attempting uninstall: nvidia-cudnn-cu12\n",
            "    Found existing installation: nvidia-cudnn-cu12 9.3.0.75\n",
            "    Uninstalling nvidia-cudnn-cu12-9.3.0.75:\n",
            "      Successfully uninstalled nvidia-cudnn-cu12-9.3.0.75\n",
            "  Attempting uninstall: nvidia-cusolver-cu12\n",
            "    Found existing installation: nvidia-cusolver-cu12 11.6.3.83\n",
            "    Uninstalling nvidia-cusolver-cu12-11.6.3.83:\n",
            "      Successfully uninstalled nvidia-cusolver-cu12-11.6.3.83\n",
            "Successfully installed deepctr-torch-0.2.9 nvidia-cublas-cu12-12.4.5.8 nvidia-cuda-cupti-cu12-12.4.127 nvidia-cuda-nvrtc-cu12-12.4.127 nvidia-cuda-runtime-cu12-12.4.127 nvidia-cudnn-cu12-9.1.0.70 nvidia-cufft-cu12-11.2.1.3 nvidia-curand-cu12-10.3.5.147 nvidia-cusolver-cu12-11.6.1.9 nvidia-cusparse-cu12-12.3.1.170 nvidia-nvjitlink-cu12-12.4.127\n"
          ]
        }
      ]
    },
    {
      "cell_type": "markdown",
      "source": [
        "# Import library"
      ],
      "metadata": {
        "id": "IA4asKISCvLq"
      }
    },
    {
      "cell_type": "code",
      "source": [
        "import torch\n",
        "from sklearn.preprocessing import OneHotEncoder, LabelEncoder, MinMaxScaler, StandardScaler\n",
        "from sklearn.metrics import confusion_matrix, accuracy_score\n",
        "from sklearn.model_selection import train_test_split\n",
        "from deepctr_torch.inputs import SparseFeat, DenseFeat, get_feature_names\n",
        "from deepctr_torch.models import DeepFM\n",
        "from torch.optim import Adam\n",
        "from tensorflow.keras.preprocessing.sequence import pad_sequences\n",
        "import pandas as pd\n",
        "import numpy as np\n",
        "import re\n",
        "import pickle"
      ],
      "metadata": {
        "id": "CIuZilUbCx1J"
      },
      "execution_count": null,
      "outputs": []
    },
    {
      "cell_type": "markdown",
      "source": [
        "# Read data"
      ],
      "metadata": {
        "id": "a56gWGg2GBok"
      }
    },
    {
      "cell_type": "code",
      "source": [
        "df = pd.read_csv(\"/content/data/Flipkart_Mobiles.csv\")\n",
        "print(df.head(10))"
      ],
      "metadata": {
        "colab": {
          "base_uri": "https://localhost:8080/"
        },
        "id": "yiNa0I11GD81",
        "outputId": "2ff4fdf7-eccf-4ea5-e2b5-4876116418fc"
      },
      "execution_count": null,
      "outputs": [
        {
          "output_type": "stream",
          "name": "stdout",
          "text": [
            "  Brand Model            Color Memory Storage  Rating  Selling Price  \\\n",
            "0  OPPO   A53  Moonlight Black   4 GB   64 GB     4.5          11990   \n",
            "1  OPPO   A53       Mint Cream   4 GB   64 GB     4.5          11990   \n",
            "2  OPPO   A53  Moonlight Black   6 GB  128 GB     4.3          13990   \n",
            "3  OPPO   A53       Mint Cream   6 GB  128 GB     4.3          13990   \n",
            "4  OPPO   A53   Electric Black   4 GB   64 GB     4.5          11990   \n",
            "5  OPPO   A53   Electric Black   6 GB  128 GB     4.3          13990   \n",
            "6  OPPO   A12        Deep Blue   4 GB   64 GB     4.4          10490   \n",
            "7  OPPO   A12            Black   3 GB   32 GB     4.4           9490   \n",
            "8  OPPO   A12             Blue   3 GB   32 GB     4.4           9490   \n",
            "9  OPPO   A12   Flowing Silver   3 GB   32 GB     4.4           9490   \n",
            "\n",
            "   Original Price  \n",
            "0           15990  \n",
            "1           15990  \n",
            "2           17990  \n",
            "3           17990  \n",
            "4           15990  \n",
            "5           17990  \n",
            "6           11990  \n",
            "7           10990  \n",
            "8           10990  \n",
            "9           10990  \n"
          ]
        }
      ]
    },
    {
      "cell_type": "markdown",
      "source": [
        "# Adjust data"
      ],
      "metadata": {
        "id": "bxRaJznrgE4v"
      }
    },
    {
      "cell_type": "code",
      "source": [
        "# Handle missing values\n",
        "print(df.isnull().sum())\n",
        "df = df.dropna()\n",
        "df = df.reset_index(drop=True)\n",
        "# print(df.head())\n",
        "\n",
        "# Add \"Price Difference\" column to replace the \"Original Price\" column\n",
        "df[\"Price Difference\"] = df[\"Original Price\"] - df[\"Selling Price\"]\n",
        "df = df.drop(columns=[\"Original Price\"])\n",
        "\n",
        "# Modify \"Memory\" and \"Storage\" column\n",
        "df.rename(columns={\"Memory\": \"Memory(GB/MB)\", \"Storage\": \"Storage(GB)\"}, inplace=True)\n",
        "df[\"Memory(GB/MB)\"] = df[\"Memory(GB/MB)\"].str.replace(r\"\\D\", \"\", regex=True).astype(float)\n",
        "df[\"Storage(GB)\"] = df[\"Storage(GB)\"].str.replace(r\"\\D\", \"\", regex=True).astype(int)\n",
        "\n",
        "# Add \"Customer Name\" column\n",
        "num_rows = len(df)\n",
        "\n",
        "num_customers = -(-num_rows // 3) # Ensure that each customer appears at least three times.\n",
        "customer_ids = np.repeat(np.arange(1, num_customers + 1), 3)\n",
        "np.random.shuffle(customer_ids)\n",
        "df.insert(0, \"Customer ID\", customer_ids[:num_rows]) # Insert leftmost column\n",
        "\n",
        "# Add \"Clicked\" column\n",
        "df[\"Clicked\"] = np.random.choice([0, 1], size=num_rows)\n",
        "\n",
        "print(df.head())\n",
        "print(df.dtypes)"
      ],
      "metadata": {
        "colab": {
          "base_uri": "https://localhost:8080/"
        },
        "id": "N-j_pqr7gRhT",
        "outputId": "a8f6959c-9d9c-437d-944c-194e7ac19eed"
      },
      "execution_count": null,
      "outputs": [
        {
          "output_type": "stream",
          "name": "stdout",
          "text": [
            "Brand               0\n",
            "Model               0\n",
            "Color               0\n",
            "Memory             43\n",
            "Storage            39\n",
            "Rating            144\n",
            "Selling Price       0\n",
            "Original Price      0\n",
            "dtype: int64\n",
            "   Customer ID Brand Model            Color  Memory(GB/MB)  Storage(GB)  \\\n",
            "0          702  OPPO   A53  Moonlight Black            4.0           64   \n",
            "1           83  OPPO   A53       Mint Cream            4.0           64   \n",
            "2          219  OPPO   A53  Moonlight Black            6.0          128   \n",
            "3          662  OPPO   A53       Mint Cream            6.0          128   \n",
            "4          919  OPPO   A53   Electric Black            4.0           64   \n",
            "\n",
            "   Rating  Selling Price  Price Difference  Clicked  \n",
            "0     4.5          11990              4000        1  \n",
            "1     4.5          11990              4000        1  \n",
            "2     4.3          13990              4000        1  \n",
            "3     4.3          13990              4000        1  \n",
            "4     4.5          11990              4000        1  \n",
            "Customer ID           int64\n",
            "Brand                object\n",
            "Model                object\n",
            "Color                object\n",
            "Memory(GB/MB)       float64\n",
            "Storage(GB)           int64\n",
            "Rating              float64\n",
            "Selling Price         int64\n",
            "Price Difference      int64\n",
            "Clicked               int64\n",
            "dtype: object\n"
          ]
        }
      ]
    },
    {
      "cell_type": "markdown",
      "source": [
        "# Data preprocessing"
      ],
      "metadata": {
        "id": "03nde3CIGNYb"
      }
    },
    {
      "cell_type": "code",
      "source": [
        "# Define feature categories\n",
        "emb_features = [\"Customer ID\", \"Brand\", \"Model\", \"Color\", \"Memory(GB/MB)\", \"Storage(GB)\"]\n",
        "dense_features_standard = [\"Selling Price\", \"Price Difference\"]\n",
        "dense_features_minmax = [\"Rating\"]\n",
        "\n",
        "# Label Encoding for categorical features\n",
        "label_encoders = {}\n",
        "\n",
        "for feat in emb_features:\n",
        "    lbe = LabelEncoder()\n",
        "    df[feat] = lbe.fit_transform(df[feat]) + 1 # Make sure Label Encoding starts from 1 (0 is reserved for padding)\n",
        "\n",
        "    label_encoders[feat] = lbe\n",
        "\n",
        "# Store into pickle file\n",
        "with open(\"label_encoders.pkl\", \"wb\") as f:\n",
        "    pickle.dump(label_encoders, f)\n",
        "\n",
        "# Standard scaling\n",
        "scaler1 = StandardScaler()\n",
        "df[dense_features_standard] = scaler1.fit_transform(df[dense_features_standard])\n",
        "\n",
        "# Min-max scaling for\n",
        "scaler2 = MinMaxScaler()\n",
        "df[dense_features_minmax] = scaler2.fit_transform(df[dense_features_minmax])\n",
        "\n",
        "# Store into pickle file\n",
        "with open(\"scalers.pkl\", \"wb\") as f:\n",
        "    pickle.dump({\"standard\": scaler1, \"minmax\": scaler2}, f)\n",
        "\n",
        "# Split data into training and testing set\n",
        "train_data, test_data = train_test_split(df, test_size=0.2, random_state=42)\n",
        "\n",
        "# Create independent variables required to build the DeepFM model\n",
        "# Embedding is used for category features, and numerical features are input directly.\n",
        "feature_columns = (\n",
        "    [SparseFeat(feat, df[feat].nunique() + 2, embedding_dim=16) for feat in emb_features] +\n",
        "    [DenseFeat(feat, 1) for feat in dense_features_standard] +\n",
        "    [DenseFeat(feat, 1) for feat in dense_features_minmax]\n",
        ")\n",
        "feature_names = get_feature_names(feature_columns)\n",
        "\n",
        "train_model_input = {\n",
        "    name: np.array(train_data[name].values, dtype=np.int32) if name in emb_features else np.array(train_data[name].values, dtype=np.float32)\n",
        "    for name in feature_names\n",
        "}\n",
        "test_model_input = {\n",
        "    name: np.array(test_data[name].values, dtype=np.int32) if name in emb_features else np.array(test_data[name].values, dtype=np.float32)\n",
        "    for name in feature_names\n",
        "}\n",
        "\n",
        "print(train_model_input)\n",
        "print(\"-\" * 100)\n",
        "# print(test_model_input)\n",
        "# print(\"-\" * 100)\n",
        "\n",
        "# Create dependent variables\n",
        "y_train_ctr = np.array(train_data['Clicked'].values, dtype=np.float32)\n",
        "print(y_train_ctr)\n",
        "print(\"-\" * 100)\n",
        "\n",
        "y_test_ctr = np.array(test_data['Clicked'].values, dtype=np.float32)\n",
        "# print(y_test_ctr)\n",
        "# print(\"-\" * 100)\n",
        "# print(y_test_pctcvr)"
      ],
      "metadata": {
        "colab": {
          "base_uri": "https://localhost:8080/"
        },
        "id": "LBShBGwMGPdR",
        "outputId": "ff303aea-ed3e-4032-93b1-3206e383d19b"
      },
      "execution_count": null,
      "outputs": [
        {
          "output_type": "stream",
          "name": "stdout",
          "text": [
            "{'Customer ID': array([ 95, 649, 146, ..., 193, 331, 653], dtype=int32), 'Brand': array([12, 10,  4, ...,  2,  2, 11], dtype=int32), 'Model': array([123, 263,  41, ..., 866, 856,   5], dtype=int32), 'Color': array([352, 209, 390, ..., 526, 244,  46], dtype=int32), 'Memory(GB/MB)': array([3, 3, 4, ..., 1, 4, 4], dtype=int32), 'Storage(GB)': array([ 8,  7,  8, ...,  6, 15,  3], dtype=int32), 'Selling Price': array([-0.36795014, -0.44345537,  1.7561316 , ...,  0.5804727 ,\n",
            "        3.6636717 , -0.87991416], dtype=float32), 'Price Difference': array([-0.35683632, -0.35683632, -0.35683632, ..., -0.35683632,\n",
            "       -0.35683632, -0.35683632], dtype=float32), 'Rating': array([0.7777778, 0.6666667, 0.8148148, ..., 0.8148148, 0.8518519,\n",
            "       0.7037037], dtype=float32)}\n",
            "----------------------------------------------------------------------------------------------------\n",
            "[1. 1. 1. ... 0. 0. 1.]\n",
            "----------------------------------------------------------------------------------------------------\n"
          ]
        }
      ]
    },
    {
      "cell_type": "markdown",
      "source": [
        "# Define DeepFM model"
      ],
      "metadata": {
        "id": "HWu4CF-UIOHL"
      }
    },
    {
      "cell_type": "code",
      "source": [
        "device = \"cpu\"\n",
        "\n",
        "model_ctr = DeepFM(\n",
        "    linear_feature_columns=feature_columns,\n",
        "    dnn_feature_columns=feature_columns,\n",
        "    task=\"binary\",\n",
        "    device=device\n",
        ")"
      ],
      "metadata": {
        "id": "4ZKPBG4TiyAp"
      },
      "execution_count": null,
      "outputs": []
    },
    {
      "cell_type": "markdown",
      "source": [
        "# Model compiling"
      ],
      "metadata": {
        "id": "ClL3qmB-i3qY"
      }
    },
    {
      "cell_type": "code",
      "source": [
        "model_ctr.compile(optimizer='adam',\n",
        "              loss='binary_crossentropy',\n",
        "              metrics=['auc'])"
      ],
      "metadata": {
        "id": "ZqM4SBh2i5cI"
      },
      "execution_count": null,
      "outputs": []
    },
    {
      "cell_type": "markdown",
      "source": [
        "# Model training"
      ],
      "metadata": {
        "id": "g7Cp174DJjFH"
      }
    },
    {
      "cell_type": "code",
      "source": [
        "model_ctr.fit(train_model_input,\n",
        "              y_train_ctr,\n",
        "              batch_size=256,\n",
        "              epochs=30,\n",
        "              verbose=2,\n",
        "              validation_split=0.2)"
      ],
      "metadata": {
        "colab": {
          "base_uri": "https://localhost:8080/"
        },
        "id": "EpQRkuktj-6v",
        "outputId": "56ce93aa-e0a7-4f5c-bfbe-8c57ddc46c1c"
      },
      "execution_count": null,
      "outputs": [
        {
          "output_type": "stream",
          "name": "stdout",
          "text": [
            "cpu\n",
            "Train on 1853 samples, validate on 464 samples, 8 steps per epoch\n",
            "Epoch 1/30\n",
            "0s - loss:  0.6934 - auc:  0.5106 - val_auc:  0.5055\n",
            "Epoch 2/30\n",
            "0s - loss:  0.6898 - auc:  0.7705 - val_auc:  0.5097\n",
            "Epoch 3/30\n",
            "0s - loss:  0.6856 - auc:  0.8387 - val_auc:  0.5094\n",
            "Epoch 4/30\n",
            "0s - loss:  0.6787 - auc:  0.8710 - val_auc:  0.5122\n",
            "Epoch 5/30\n",
            "0s - loss:  0.6659 - auc:  0.8971 - val_auc:  0.5155\n",
            "Epoch 6/30\n",
            "0s - loss:  0.6399 - auc:  0.9231 - val_auc:  0.5176\n",
            "Epoch 7/30\n",
            "0s - loss:  0.5945 - auc:  0.9377 - val_auc:  0.5202\n",
            "Epoch 8/30\n",
            "0s - loss:  0.5191 - auc:  0.9566 - val_auc:  0.5165\n",
            "Epoch 9/30\n",
            "0s - loss:  0.4250 - auc:  0.9677 - val_auc:  0.5145\n",
            "Epoch 10/30\n",
            "0s - loss:  0.3373 - auc:  0.9758 - val_auc:  0.5122\n",
            "Epoch 11/30\n",
            "0s - loss:  0.2630 - auc:  0.9872 - val_auc:  0.5139\n",
            "Epoch 12/30\n",
            "0s - loss:  0.2012 - auc:  0.9924 - val_auc:  0.5064\n",
            "Epoch 13/30\n",
            "0s - loss:  0.1492 - auc:  0.9957 - val_auc:  0.5126\n",
            "Epoch 14/30\n",
            "0s - loss:  0.1106 - auc:  0.9972 - val_auc:  0.5040\n",
            "Epoch 15/30\n",
            "0s - loss:  0.0838 - auc:  0.9964 - val_auc:  0.5110\n",
            "Epoch 16/30\n",
            "0s - loss:  0.0597 - auc:  0.9977 - val_auc:  0.5069\n",
            "Epoch 17/30\n",
            "0s - loss:  0.0458 - auc:  0.9985 - val_auc:  0.5107\n",
            "Epoch 18/30\n",
            "0s - loss:  0.0371 - auc:  0.9989 - val_auc:  0.5099\n",
            "Epoch 19/30\n",
            "0s - loss:  0.0302 - auc:  0.9990 - val_auc:  0.5094\n",
            "Epoch 20/30\n",
            "0s - loss:  0.0258 - auc:  0.9989 - val_auc:  0.5104\n",
            "Epoch 21/30\n",
            "0s - loss:  0.0221 - auc:  0.9991 - val_auc:  0.5111\n",
            "Epoch 22/30\n",
            "0s - loss:  0.0201 - auc:  0.9992 - val_auc:  0.5110\n",
            "Epoch 23/30\n",
            "0s - loss:  0.0177 - auc:  0.9992 - val_auc:  0.5125\n",
            "Epoch 24/30\n",
            "0s - loss:  0.0163 - auc:  0.9992 - val_auc:  0.5107\n",
            "Epoch 25/30\n",
            "0s - loss:  0.0152 - auc:  0.9992 - val_auc:  0.5116\n",
            "Epoch 26/30\n",
            "0s - loss:  0.0144 - auc:  0.9993 - val_auc:  0.5113\n",
            "Epoch 27/30\n",
            "0s - loss:  0.0136 - auc:  0.9992 - val_auc:  0.5110\n",
            "Epoch 28/30\n",
            "0s - loss:  0.0130 - auc:  0.9994 - val_auc:  0.5115\n",
            "Epoch 29/30\n",
            "0s - loss:  0.0125 - auc:  0.9994 - val_auc:  0.5115\n",
            "Epoch 30/30\n",
            "0s - loss:  0.0121 - auc:  0.9995 - val_auc:  0.5111\n"
          ]
        },
        {
          "output_type": "execute_result",
          "data": {
            "text/plain": [
              "<tensorflow.python.keras.callbacks.History at 0x7f7f745b5cd0>"
            ]
          },
          "metadata": {},
          "execution_count": 136
        }
      ]
    },
    {
      "cell_type": "markdown",
      "source": [
        "# Model prediction"
      ],
      "metadata": {
        "id": "3er36pqKBoxJ"
      }
    },
    {
      "cell_type": "code",
      "source": [
        "pred_ctr = model_ctr.predict(test_model_input, batch_size=256)\n",
        "pred_ctr = pred_ctr.flatten()\n",
        "\n",
        "result_df = pd.DataFrame({\n",
        "    \"Customer ID\": test_data[\"Customer ID\"],\n",
        "    \"pred_CTR\": pred_ctr.flatten()\n",
        "})\n",
        "\n",
        "result_df.head(10)"
      ],
      "metadata": {
        "colab": {
          "base_uri": "https://localhost:8080/",
          "height": 363
        },
        "id": "jMoQ4xuYBrCi",
        "outputId": "74d6104e-cb96-4b9e-f902-05835df87a44"
      },
      "execution_count": null,
      "outputs": [
        {
          "output_type": "execute_result",
          "data": {
            "text/plain": [
              "      Customer ID      pred_CTR\n",
              "141           484  2.110983e-05\n",
              "2477          377  2.845686e-03\n",
              "2781          111  9.969607e-01\n",
              "1710          768  9.783269e-01\n",
              "1926           73  2.400805e-09\n",
              "544            14  8.148954e-10\n",
              "2404          796  1.921398e-06\n",
              "1149          630  8.720703e-03\n",
              "1133          940  2.992912e-05\n",
              "322           809  9.949163e-01"
            ],
            "text/html": [
              "\n",
              "  <div id=\"df-5749231f-9291-4ba1-be68-9c272c209e8f\" class=\"colab-df-container\">\n",
              "    <div>\n",
              "<style scoped>\n",
              "    .dataframe tbody tr th:only-of-type {\n",
              "        vertical-align: middle;\n",
              "    }\n",
              "\n",
              "    .dataframe tbody tr th {\n",
              "        vertical-align: top;\n",
              "    }\n",
              "\n",
              "    .dataframe thead th {\n",
              "        text-align: right;\n",
              "    }\n",
              "</style>\n",
              "<table border=\"1\" class=\"dataframe\">\n",
              "  <thead>\n",
              "    <tr style=\"text-align: right;\">\n",
              "      <th></th>\n",
              "      <th>Customer ID</th>\n",
              "      <th>pred_CTR</th>\n",
              "    </tr>\n",
              "  </thead>\n",
              "  <tbody>\n",
              "    <tr>\n",
              "      <th>141</th>\n",
              "      <td>484</td>\n",
              "      <td>2.110983e-05</td>\n",
              "    </tr>\n",
              "    <tr>\n",
              "      <th>2477</th>\n",
              "      <td>377</td>\n",
              "      <td>2.845686e-03</td>\n",
              "    </tr>\n",
              "    <tr>\n",
              "      <th>2781</th>\n",
              "      <td>111</td>\n",
              "      <td>9.969607e-01</td>\n",
              "    </tr>\n",
              "    <tr>\n",
              "      <th>1710</th>\n",
              "      <td>768</td>\n",
              "      <td>9.783269e-01</td>\n",
              "    </tr>\n",
              "    <tr>\n",
              "      <th>1926</th>\n",
              "      <td>73</td>\n",
              "      <td>2.400805e-09</td>\n",
              "    </tr>\n",
              "    <tr>\n",
              "      <th>544</th>\n",
              "      <td>14</td>\n",
              "      <td>8.148954e-10</td>\n",
              "    </tr>\n",
              "    <tr>\n",
              "      <th>2404</th>\n",
              "      <td>796</td>\n",
              "      <td>1.921398e-06</td>\n",
              "    </tr>\n",
              "    <tr>\n",
              "      <th>1149</th>\n",
              "      <td>630</td>\n",
              "      <td>8.720703e-03</td>\n",
              "    </tr>\n",
              "    <tr>\n",
              "      <th>1133</th>\n",
              "      <td>940</td>\n",
              "      <td>2.992912e-05</td>\n",
              "    </tr>\n",
              "    <tr>\n",
              "      <th>322</th>\n",
              "      <td>809</td>\n",
              "      <td>9.949163e-01</td>\n",
              "    </tr>\n",
              "  </tbody>\n",
              "</table>\n",
              "</div>\n",
              "    <div class=\"colab-df-buttons\">\n",
              "\n",
              "  <div class=\"colab-df-container\">\n",
              "    <button class=\"colab-df-convert\" onclick=\"convertToInteractive('df-5749231f-9291-4ba1-be68-9c272c209e8f')\"\n",
              "            title=\"Convert this dataframe to an interactive table.\"\n",
              "            style=\"display:none;\">\n",
              "\n",
              "  <svg xmlns=\"http://www.w3.org/2000/svg\" height=\"24px\" viewBox=\"0 -960 960 960\">\n",
              "    <path d=\"M120-120v-720h720v720H120Zm60-500h600v-160H180v160Zm220 220h160v-160H400v160Zm0 220h160v-160H400v160ZM180-400h160v-160H180v160Zm440 0h160v-160H620v160ZM180-180h160v-160H180v160Zm440 0h160v-160H620v160Z\"/>\n",
              "  </svg>\n",
              "    </button>\n",
              "\n",
              "  <style>\n",
              "    .colab-df-container {\n",
              "      display:flex;\n",
              "      gap: 12px;\n",
              "    }\n",
              "\n",
              "    .colab-df-convert {\n",
              "      background-color: #E8F0FE;\n",
              "      border: none;\n",
              "      border-radius: 50%;\n",
              "      cursor: pointer;\n",
              "      display: none;\n",
              "      fill: #1967D2;\n",
              "      height: 32px;\n",
              "      padding: 0 0 0 0;\n",
              "      width: 32px;\n",
              "    }\n",
              "\n",
              "    .colab-df-convert:hover {\n",
              "      background-color: #E2EBFA;\n",
              "      box-shadow: 0px 1px 2px rgba(60, 64, 67, 0.3), 0px 1px 3px 1px rgba(60, 64, 67, 0.15);\n",
              "      fill: #174EA6;\n",
              "    }\n",
              "\n",
              "    .colab-df-buttons div {\n",
              "      margin-bottom: 4px;\n",
              "    }\n",
              "\n",
              "    [theme=dark] .colab-df-convert {\n",
              "      background-color: #3B4455;\n",
              "      fill: #D2E3FC;\n",
              "    }\n",
              "\n",
              "    [theme=dark] .colab-df-convert:hover {\n",
              "      background-color: #434B5C;\n",
              "      box-shadow: 0px 1px 3px 1px rgba(0, 0, 0, 0.15);\n",
              "      filter: drop-shadow(0px 1px 2px rgba(0, 0, 0, 0.3));\n",
              "      fill: #FFFFFF;\n",
              "    }\n",
              "  </style>\n",
              "\n",
              "    <script>\n",
              "      const buttonEl =\n",
              "        document.querySelector('#df-5749231f-9291-4ba1-be68-9c272c209e8f button.colab-df-convert');\n",
              "      buttonEl.style.display =\n",
              "        google.colab.kernel.accessAllowed ? 'block' : 'none';\n",
              "\n",
              "      async function convertToInteractive(key) {\n",
              "        const element = document.querySelector('#df-5749231f-9291-4ba1-be68-9c272c209e8f');\n",
              "        const dataTable =\n",
              "          await google.colab.kernel.invokeFunction('convertToInteractive',\n",
              "                                                    [key], {});\n",
              "        if (!dataTable) return;\n",
              "\n",
              "        const docLinkHtml = 'Like what you see? Visit the ' +\n",
              "          '<a target=\"_blank\" href=https://colab.research.google.com/notebooks/data_table.ipynb>data table notebook</a>'\n",
              "          + ' to learn more about interactive tables.';\n",
              "        element.innerHTML = '';\n",
              "        dataTable['output_type'] = 'display_data';\n",
              "        await google.colab.output.renderOutput(dataTable, element);\n",
              "        const docLink = document.createElement('div');\n",
              "        docLink.innerHTML = docLinkHtml;\n",
              "        element.appendChild(docLink);\n",
              "      }\n",
              "    </script>\n",
              "  </div>\n",
              "\n",
              "\n",
              "<div id=\"df-e578ecd7-1576-4c7c-bae7-66abd6545b53\">\n",
              "  <button class=\"colab-df-quickchart\" onclick=\"quickchart('df-e578ecd7-1576-4c7c-bae7-66abd6545b53')\"\n",
              "            title=\"Suggest charts\"\n",
              "            style=\"display:none;\">\n",
              "\n",
              "<svg xmlns=\"http://www.w3.org/2000/svg\" height=\"24px\"viewBox=\"0 0 24 24\"\n",
              "     width=\"24px\">\n",
              "    <g>\n",
              "        <path d=\"M19 3H5c-1.1 0-2 .9-2 2v14c0 1.1.9 2 2 2h14c1.1 0 2-.9 2-2V5c0-1.1-.9-2-2-2zM9 17H7v-7h2v7zm4 0h-2V7h2v10zm4 0h-2v-4h2v4z\"/>\n",
              "    </g>\n",
              "</svg>\n",
              "  </button>\n",
              "\n",
              "<style>\n",
              "  .colab-df-quickchart {\n",
              "      --bg-color: #E8F0FE;\n",
              "      --fill-color: #1967D2;\n",
              "      --hover-bg-color: #E2EBFA;\n",
              "      --hover-fill-color: #174EA6;\n",
              "      --disabled-fill-color: #AAA;\n",
              "      --disabled-bg-color: #DDD;\n",
              "  }\n",
              "\n",
              "  [theme=dark] .colab-df-quickchart {\n",
              "      --bg-color: #3B4455;\n",
              "      --fill-color: #D2E3FC;\n",
              "      --hover-bg-color: #434B5C;\n",
              "      --hover-fill-color: #FFFFFF;\n",
              "      --disabled-bg-color: #3B4455;\n",
              "      --disabled-fill-color: #666;\n",
              "  }\n",
              "\n",
              "  .colab-df-quickchart {\n",
              "    background-color: var(--bg-color);\n",
              "    border: none;\n",
              "    border-radius: 50%;\n",
              "    cursor: pointer;\n",
              "    display: none;\n",
              "    fill: var(--fill-color);\n",
              "    height: 32px;\n",
              "    padding: 0;\n",
              "    width: 32px;\n",
              "  }\n",
              "\n",
              "  .colab-df-quickchart:hover {\n",
              "    background-color: var(--hover-bg-color);\n",
              "    box-shadow: 0 1px 2px rgba(60, 64, 67, 0.3), 0 1px 3px 1px rgba(60, 64, 67, 0.15);\n",
              "    fill: var(--button-hover-fill-color);\n",
              "  }\n",
              "\n",
              "  .colab-df-quickchart-complete:disabled,\n",
              "  .colab-df-quickchart-complete:disabled:hover {\n",
              "    background-color: var(--disabled-bg-color);\n",
              "    fill: var(--disabled-fill-color);\n",
              "    box-shadow: none;\n",
              "  }\n",
              "\n",
              "  .colab-df-spinner {\n",
              "    border: 2px solid var(--fill-color);\n",
              "    border-color: transparent;\n",
              "    border-bottom-color: var(--fill-color);\n",
              "    animation:\n",
              "      spin 1s steps(1) infinite;\n",
              "  }\n",
              "\n",
              "  @keyframes spin {\n",
              "    0% {\n",
              "      border-color: transparent;\n",
              "      border-bottom-color: var(--fill-color);\n",
              "      border-left-color: var(--fill-color);\n",
              "    }\n",
              "    20% {\n",
              "      border-color: transparent;\n",
              "      border-left-color: var(--fill-color);\n",
              "      border-top-color: var(--fill-color);\n",
              "    }\n",
              "    30% {\n",
              "      border-color: transparent;\n",
              "      border-left-color: var(--fill-color);\n",
              "      border-top-color: var(--fill-color);\n",
              "      border-right-color: var(--fill-color);\n",
              "    }\n",
              "    40% {\n",
              "      border-color: transparent;\n",
              "      border-right-color: var(--fill-color);\n",
              "      border-top-color: var(--fill-color);\n",
              "    }\n",
              "    60% {\n",
              "      border-color: transparent;\n",
              "      border-right-color: var(--fill-color);\n",
              "    }\n",
              "    80% {\n",
              "      border-color: transparent;\n",
              "      border-right-color: var(--fill-color);\n",
              "      border-bottom-color: var(--fill-color);\n",
              "    }\n",
              "    90% {\n",
              "      border-color: transparent;\n",
              "      border-bottom-color: var(--fill-color);\n",
              "    }\n",
              "  }\n",
              "</style>\n",
              "\n",
              "  <script>\n",
              "    async function quickchart(key) {\n",
              "      const quickchartButtonEl =\n",
              "        document.querySelector('#' + key + ' button');\n",
              "      quickchartButtonEl.disabled = true;  // To prevent multiple clicks.\n",
              "      quickchartButtonEl.classList.add('colab-df-spinner');\n",
              "      try {\n",
              "        const charts = await google.colab.kernel.invokeFunction(\n",
              "            'suggestCharts', [key], {});\n",
              "      } catch (error) {\n",
              "        console.error('Error during call to suggestCharts:', error);\n",
              "      }\n",
              "      quickchartButtonEl.classList.remove('colab-df-spinner');\n",
              "      quickchartButtonEl.classList.add('colab-df-quickchart-complete');\n",
              "    }\n",
              "    (() => {\n",
              "      let quickchartButtonEl =\n",
              "        document.querySelector('#df-e578ecd7-1576-4c7c-bae7-66abd6545b53 button');\n",
              "      quickchartButtonEl.style.display =\n",
              "        google.colab.kernel.accessAllowed ? 'block' : 'none';\n",
              "    })();\n",
              "  </script>\n",
              "</div>\n",
              "\n",
              "    </div>\n",
              "  </div>\n"
            ],
            "application/vnd.google.colaboratory.intrinsic+json": {
              "type": "dataframe",
              "variable_name": "result_df",
              "summary": "{\n  \"name\": \"result_df\",\n  \"rows\": 580,\n  \"fields\": [\n    {\n      \"column\": \"Customer ID\",\n      \"properties\": {\n        \"dtype\": \"number\",\n        \"std\": 287,\n        \"min\": 2,\n        \"max\": 964,\n        \"num_unique_values\": 455,\n        \"samples\": [\n          30,\n          761,\n          807\n        ],\n        \"semantic_type\": \"\",\n        \"description\": \"\"\n      }\n    },\n    {\n      \"column\": \"pred_CTR\",\n      \"properties\": {\n        \"dtype\": \"number\",\n        \"std\": 0.4673268050363426,\n        \"min\": 1.5968049975269467e-14,\n        \"max\": 0.9990195035934448,\n        \"num_unique_values\": 579,\n        \"samples\": [\n          0.319617360830307,\n          3.633655580870254e-07,\n          0.9976537823677063\n        ],\n        \"semantic_type\": \"\",\n        \"description\": \"\"\n      }\n    }\n  ]\n}"
            }
          },
          "metadata": {},
          "execution_count": 137
        }
      ]
    },
    {
      "cell_type": "markdown",
      "source": [
        "# Make confusion matrix & Model evaluation"
      ],
      "metadata": {
        "id": "BDzlVn60zqOe"
      }
    },
    {
      "cell_type": "code",
      "source": [
        "pred_labels = (pred_ctr > 0.5).astype(int)\n",
        "cm = confusion_matrix(y_test_ctr, pred_labels)\n",
        "print(cm)\n",
        "print(accuracy_score(y_test_ctr, pred_labels))"
      ],
      "metadata": {
        "colab": {
          "base_uri": "https://localhost:8080/"
        },
        "id": "Cq4ZiDrQzrmO",
        "outputId": "36e53f15-d6bf-46d3-b90a-49954676f0db"
      },
      "execution_count": null,
      "outputs": [
        {
          "output_type": "stream",
          "name": "stdout",
          "text": [
            "[[165 121]\n",
            " [163 131]]\n",
            "0.5103448275862069\n"
          ]
        }
      ]
    },
    {
      "cell_type": "markdown",
      "source": [
        "# Application: For each user, the 5 products with the highest predicted CTR are selected as recommended results."
      ],
      "metadata": {
        "id": "xQk5qeSYFGFY"
      }
    },
    {
      "cell_type": "code",
      "source": [
        "test_data[\"pred_CTR\"] = pred_ctr.flatten()\n",
        "\n",
        "# Restore label encoding\n",
        "with open(\"label_encoders.pkl\", \"rb\") as f:\n",
        "    label_encoders = pickle.load(f)\n",
        "\n",
        "for feat in emb_features:\n",
        "  test_data[feat] = test_data[feat].apply(lambda x: label_encoders[feat].inverse_transform([x - 1])[0] if x > 0 else \"Unknown\")\n",
        "\n",
        "# Restore scaling\n",
        "with open(\"scalers.pkl\", \"rb\") as f:\n",
        "    scalers = pickle.load(f)\n",
        "\n",
        "test_data[dense_features_standard] = scalers[\"standard\"].inverse_transform(test_data[dense_features_standard].values)\n",
        "test_data[dense_features_minmax] = scalers[\"minmax\"].inverse_transform(test_data[dense_features_minmax].values)\n",
        "test_data[dense_features_standard] = pd.DataFrame(test_data[dense_features_standard], columns=dense_features_standard)\n",
        "test_data[dense_features_minmax] = pd.DataFrame(test_data[dense_features_minmax], columns=dense_features_minmax)\n",
        "\n",
        "top_recommendations = test_data.groupby(\"Customer ID\").apply(lambda x: x.nlargest(5, \"pred_CTR\")).reset_index(drop=True)\n",
        "top_recommendations = top_recommendations.sort_values([\"Customer ID\", \"pred_CTR\"], ascending=[True, False])\n",
        "print(top_recommendations[[\"Customer ID\", \"Brand\", \"Model\", \"Color\", \"Memory(GB/MB)\", \"Storage(GB)\", \"Selling Price\", \"pred_CTR\"]].head(20))"
      ],
      "metadata": {
        "colab": {
          "base_uri": "https://localhost:8080/"
        },
        "id": "sK3wjVvqFKRX",
        "outputId": "00246adc-6710-4848-93a3-8a131126cf5c"
      },
      "execution_count": null,
      "outputs": [
        {
          "output_type": "stream",
          "name": "stdout",
          "text": [
            "    Customer ID    Brand                   Model          Color  \\\n",
            "0             2     vivo                 Y83 Pro  Nebula Purple   \n",
            "1             4    Apple          iPhone 7 Plus       Rose Gold   \n",
            "2             7  Infinix               Hot 7 Pro    Mocha Brown   \n",
            "3             8   realme                      9i    Prism Black   \n",
            "4             9   Xiaomi              11 Lite NE  Tuscany Coral   \n",
            "5            12    Apple         iPhone 12 Mini           Green   \n",
            "6            12  SAMSUNG         Galaxy J2 Core            Blue   \n",
            "7            13     OPPO                     A15  Dynamic Black   \n",
            "8            13    Nokia                  XPlus    Bright Green   \n",
            "9            14   realme        Narzo 30 Pro 5G    Blade Silver   \n",
            "10           15  SAMSUNG        Galaxy S6 Edge+   Gold Platinum   \n",
            "11           17   GIONEE                   P5_W           Black   \n",
            "12           18    Apple      iPhone 11 Pro Max      Space Grey   \n",
            "13           18    Nokia  RM-1172 / Nokia 230 DS          Black   \n",
            "14           21     vivo                    Y21T  Midnight Blue   \n",
            "15           22   Lenovo                K6 Note          Silver   \n",
            "16           23   Lenovo          Vibe P1 Turbo            Grey   \n",
            "17           23    Apple       iPhone 13 Pro Max    Sierra Blue   \n",
            "18           26   realme                     X3    Arctic White   \n",
            "19           26       LG                    G8X           Black   \n",
            "\n",
            "    Memory(GB/MB)  Storage(GB)  Selling Price      pred_CTR  \n",
            "0             4.0           64        14500.0  5.457096e-05  \n",
            "1             3.0          128        42900.0  9.964652e-01  \n",
            "2             6.0           64        10999.0  1.652500e-01  \n",
            "3             6.0          128        15999.0  9.256600e-04  \n",
            "4             8.0          128        23999.0  9.982635e-01  \n",
            "5             4.0          128        61999.0  3.009395e-04  \n",
            "6             1.0            8         6500.0  6.155065e-06  \n",
            "7             2.0           32         8990.0  8.491672e-01  \n",
            "8           768.0            4         7990.0  5.580077e-07  \n",
            "9             8.0          128        19999.0  8.148954e-10  \n",
            "10            4.0           32        28000.0  1.100315e-07  \n",
            "11            1.0           16         2799.0  9.966121e-01  \n",
            "12            4.0           64       117100.0  9.974836e-01  \n",
            "13           16.0          256         4196.0  9.865122e-01  \n",
            "14            4.0          128        16490.0  2.439934e-01  \n",
            "15            4.0           32         7599.0  4.950256e-07  \n",
            "16            3.0           32         9229.0  4.131644e-05  \n",
            "17            4.0          512       159900.0  5.046529e-10  \n",
            "18            8.0          128        25999.0  9.981535e-01  \n",
            "19            6.0          128        27990.0  6.173823e-02  \n"
          ]
        },
        {
          "output_type": "stream",
          "name": "stderr",
          "text": [
            "<ipython-input-139-c7d8eeab4660>:19: DeprecationWarning: DataFrameGroupBy.apply operated on the grouping columns. This behavior is deprecated, and in a future version of pandas the grouping columns will be excluded from the operation. Either pass `include_groups=False` to exclude the groupings or explicitly select the grouping columns after groupby to silence this warning.\n",
            "  top_recommendations = test_data.groupby(\"Customer ID\").apply(lambda x: x.nlargest(5, \"pred_CTR\")).reset_index(drop=True)\n"
          ]
        }
      ]
    }
  ]
}